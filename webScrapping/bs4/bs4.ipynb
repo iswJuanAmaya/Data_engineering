{
 "cells": [
  {
   "cell_type": "code",
   "execution_count": 1,
   "metadata": {},
   "outputs": [],
   "source": [
    "import requests"
   ]
  },
  {
   "cell_type": "markdown",
   "metadata": {},
   "source": [
    "## 1 requests"
   ]
  },
  {
   "cell_type": "code",
   "execution_count": 2,
   "metadata": {},
   "outputs": [],
   "source": [
    "url = 'https://www.pagina12.com.ar/'\n",
    "p12 = requests.get(url)"
   ]
  },
  {
   "cell_type": "code",
   "execution_count": 3,
   "metadata": {},
   "outputs": [
    {
     "data": {
      "text/plain": [
       "'https://www.pagina12.com.ar/'"
      ]
     },
     "execution_count": 3,
     "metadata": {},
     "output_type": "execute_result"
    }
   ],
   "source": [
    "p12.status_code\n",
    "p12.text\n",
    "p12.content\n",
    "p12.headers\n",
    "p12.request.headers\n",
    "p12.request.method\n",
    "p12.request.url"
   ]
  },
  {
   "cell_type": "markdown",
   "metadata": {},
   "source": [
    "## BS4"
   ]
  },
  {
   "cell_type": "code",
   "execution_count": 13,
   "metadata": {},
   "outputs": [],
   "source": [
    "from bs4 import BeautifulSoup\n"
   ]
  },
  {
   "cell_type": "code",
   "execution_count": 15,
   "metadata": {},
   "outputs": [],
   "source": [
    "s = BeautifulSoup(p12.text, 'html.parser')"
   ]
  },
  {
   "cell_type": "code",
   "execution_count": 16,
   "metadata": {},
   "outputs": [
    {
     "data": {
      "text/plain": [
       "bs4.BeautifulSoup"
      ]
     },
     "execution_count": 16,
     "metadata": {},
     "output_type": "execute_result"
    }
   ],
   "source": [
    "type(s)"
   ]
  },
  {
   "cell_type": "code",
   "execution_count": null,
   "metadata": {},
   "outputs": [],
   "source": [
    "print(s.prettify())"
   ]
  },
  {
   "cell_type": "code",
   "execution_count": null,
   "metadata": {},
   "outputs": [],
   "source": [
    "secciones = s.find('ul', attrs={'class':'main-sections'}).find_all('li')\n",
    "secciones"
   ]
  },
  {
   "cell_type": "code",
   "execution_count": 25,
   "metadata": {},
   "outputs": [
    {
     "data": {
      "text/plain": [
       "['El país',\n",
       " 'Economía',\n",
       " 'Sociedad',\n",
       " 'Cultura y Espectáculos',\n",
       " 'Deportes',\n",
       " 'El mundo',\n",
       " 'Contratapa']"
      ]
     },
     "execution_count": 25,
     "metadata": {},
     "output_type": "execute_result"
    }
   ],
   "source": [
    "[seccion.text for seccion in secciones]"
   ]
  },
  {
   "cell_type": "code",
   "execution_count": 27,
   "metadata": {},
   "outputs": [
    {
     "data": {
      "text/plain": [
       "<li class=\"p12-separator--right--primary\"><a href=\"https://www.pagina12.com.ar/secciones/el-pais\">El país</a></li>"
      ]
     },
     "execution_count": 27,
     "metadata": {},
     "output_type": "execute_result"
    }
   ],
   "source": [
    "seccion = secciones[0]\n",
    "seccion"
   ]
  },
  {
   "cell_type": "code",
   "execution_count": 28,
   "metadata": {},
   "outputs": [
    {
     "data": {
      "text/plain": [
       "'https://www.pagina12.com.ar/secciones/el-pais'"
      ]
     },
     "execution_count": 28,
     "metadata": {},
     "output_type": "execute_result"
    }
   ],
   "source": [
    "seccion.a.get('href')\n"
   ]
  },
  {
   "cell_type": "code",
   "execution_count": 29,
   "metadata": {},
   "outputs": [
    {
     "data": {
      "text/plain": [
       "['https://www.pagina12.com.ar/secciones/el-pais',\n",
       " 'https://www.pagina12.com.ar/secciones/economia',\n",
       " 'https://www.pagina12.com.ar/secciones/sociedad',\n",
       " 'https://www.pagina12.com.ar/suplementos/cultura-y-espectaculos',\n",
       " 'https://www.pagina12.com.ar/secciones/deportes',\n",
       " 'https://www.pagina12.com.ar/secciones/el-mundo',\n",
       " 'https://www.pagina12.com.ar/secciones/contratapa']"
      ]
     },
     "execution_count": 29,
     "metadata": {},
     "output_type": "execute_result"
    }
   ],
   "source": [
    "links_secciones = [seccion.a.get('href') for seccion in secciones]\n",
    "links_secciones"
   ]
  },
  {
   "cell_type": "code",
   "execution_count": 30,
   "metadata": {},
   "outputs": [],
   "source": [
    "sec = requests.get(links_secciones[0])"
   ]
  },
  {
   "cell_type": "code",
   "execution_count": 31,
   "metadata": {},
   "outputs": [
    {
     "data": {
      "text/plain": [
       "<Response [200]>"
      ]
     },
     "execution_count": 31,
     "metadata": {},
     "output_type": "execute_result"
    }
   ],
   "source": [
    "sec"
   ]
  },
  {
   "cell_type": "code",
   "execution_count": 32,
   "metadata": {},
   "outputs": [
    {
     "data": {
      "text/plain": [
       "'https://www.pagina12.com.ar/secciones/el-pais'"
      ]
     },
     "execution_count": 32,
     "metadata": {},
     "output_type": "execute_result"
    }
   ],
   "source": [
    "sec.request.url"
   ]
  },
  {
   "cell_type": "code",
   "execution_count": 33,
   "metadata": {},
   "outputs": [],
   "source": [
    "soup_seccion = BeautifulSoup(sec.text, 'html.parser')"
   ]
  },
  {
   "cell_type": "code",
   "execution_count": null,
   "metadata": {},
   "outputs": [],
   "source": [
    "print(soup_seccion.prettify())"
   ]
  },
  {
   "cell_type": "code",
   "execution_count": 35,
   "metadata": {},
   "outputs": [],
   "source": [
    "featured_article = soup_seccion.find('div', attrs={'class':'featured-article__container'})\n",
    "featured_article"
   ]
  },
  {
   "cell_type": "code",
   "execution_count": null,
   "metadata": {},
   "outputs": [],
   "source": [
    "featured_article.a.get('href')"
   ]
  },
  {
   "cell_type": "code",
   "execution_count": null,
   "metadata": {},
   "outputs": [],
   "source": [
    "article_list = soup_seccion.find('ul', attrs={'class':'article-list'})"
   ]
  },
  {
   "cell_type": "code",
   "execution_count": null,
   "metadata": {},
   "outputs": [],
   "source": [
    "def obtener_notas(soup):\n",
    "    '''\n",
    "    Función que recibe un objeto de BeautifulSoup de una página de una sección\n",
    "    y devuelve una lista de URLs a las notas de esa sección\n",
    "    '''\n",
    "    lista_notas = []\n",
    "    \n",
    "    # Obtengo el artículo promocionado\n",
    "    featured_article = soup.find('div', attrs={'class':'featured-article__container'})\n",
    "    if featured_article:\n",
    "        lista_notas.append(featured_article.a.get('href'))\n",
    "    \n",
    "    # Obtengo el listado de artículos\n",
    "    article_list = soup.find('ul', attrs={'class':'article-list'})\n",
    "    for article in article_list.find_all('li'):\n",
    "        if article.a:\n",
    "            lista_notas.append(article.a.get('href'))\n",
    "    \n",
    "    return lista_notas"
   ]
  },
  {
   "cell_type": "code",
   "execution_count": null,
   "metadata": {},
   "outputs": [],
   "source": [
    "lista_notas = obtener_notas(soup_seccion)\n",
    "lista_notas"
   ]
  },
  {
   "cell_type": "code",
   "execution_count": null,
   "metadata": {},
   "outputs": [],
   "source": [
    "r = requests.get(lista_notas[0])\n",
    "if r.status_code == 200:\n",
    "    # Procesamos la respuesta\n",
    "    print('procesamos..')\n",
    "else:\n",
    "     # Informar el error\n",
    "    print('informamos...')\n",
    "url_nota = lista_notas[0]\n",
    "print(url_nota)\n",
    "url_mala = url_nota.replace('2','3')\n",
    "print(url_mala)\n",
    "try:\n",
    "    nota = requests.get(url_mala)\n",
    "except Exception as e:\n",
    "    print('Error en la request:')\n",
    "    print(e)\n",
    "    print('\\n')\n",
    "    \n",
    "print('El resto del programa continúa...')"
   ]
  },
  {
   "cell_type": "code",
   "execution_count": null,
   "metadata": {},
   "outputs": [],
   "source": [
    "url_nota = lista_notas[0]\n",
    "print(url_nota)"
   ]
  },
  {
   "cell_type": "code",
   "execution_count": null,
   "metadata": {},
   "outputs": [],
   "source": [
    "try:\n",
    "    nota = requests.get(url_nota)\n",
    "    if nota.status_code == 200:\n",
    "        s_nota = BeautifulSoup(nota.text, 'lxml')\n",
    "        # Extraemos el título\n",
    "        titulo = s_nota.find('div', attrs={'class':'article-title'})\n",
    "        print(titulo.text)\n",
    "        # Extraemos la fecha\n",
    "        fecha = s_nota.find('span', attrs={'pubdate':'pubdate'}).get('datetime')\n",
    "        print(fecha)\n",
    "        # Extraemos la volanta\n",
    "        volanta = s_nota.find('div', attrs={'class':'article-prefix'})\n",
    "except Exception as e:\n",
    "    print('Error:')\n",
    "    print(e)\n",
    "    print('\\n')"
   ]
  },
  {
   "cell_type": "code",
   "execution_count": null,
   "metadata": {},
   "outputs": [],
   "source": [
    "media = s_nota.find('div', attrs={'class':'article-main-media-image'})\n",
    "imagenes = media.find_all('img')\n",
    "imagenes"
   ]
  },
  {
   "cell_type": "code",
   "execution_count": null,
   "metadata": {},
   "outputs": [],
   "source": [
    "if len(imagenes) == 0:\n",
    "    print('no se encontraron imágenes')\n",
    "else:\n",
    "    imagen = imagenes[-1]\n",
    "    img_src = imagen.get('data-src')\n",
    "    print(img_src)\n",
    "img_req = requests.get(img_src)"
   ]
  },
  {
   "cell_type": "code",
   "execution_count": null,
   "metadata": {},
   "outputs": [],
   "source": [
    "from IPython.display import Image"
   ]
  },
  {
   "cell_type": "code",
   "execution_count": null,
   "metadata": {},
   "outputs": [],
   "source": [
    "Image(img_req.content)"
   ]
  }
 ],
 "metadata": {
  "interpreter": {
   "hash": "544c669b85fec371c0b9577f236741adda31f31551cc548a2c06053b471e99d6"
  },
  "kernelspec": {
   "display_name": "Python 3.9.0 ('dat_eng_env': venv)",
   "language": "python",
   "name": "python3"
  },
  "language_info": {
   "codemirror_mode": {
    "name": "ipython",
    "version": 3
   },
   "file_extension": ".py",
   "mimetype": "text/x-python",
   "name": "python",
   "nbconvert_exporter": "python",
   "pygments_lexer": "ipython3",
   "version": "3.9.0"
  },
  "orig_nbformat": 4
 },
 "nbformat": 4,
 "nbformat_minor": 2
}
