{
 "cells": [
  {
   "cell_type": "code",
   "execution_count": 1,
   "metadata": {},
   "outputs": [],
   "source": [
    "import findspark\n",
    "from pyspark import SparkContext"
   ]
  },
  {
   "cell_type": "code",
   "execution_count": 2,
   "metadata": {},
   "outputs": [],
   "source": [
    "findspark.init()"
   ]
  },
  {
   "cell_type": "code",
   "execution_count": 3,
   "metadata": {},
   "outputs": [],
   "source": [
    "sc = SparkContext(master=\"local\", appName=\"TransformacionesyAcciones\")"
   ]
  },
  {
   "cell_type": "markdown",
   "metadata": {},
   "source": [
    "### paralelize"
   ]
  },
  {
   "cell_type": "code",
   "execution_count": 4,
   "metadata": {},
   "outputs": [],
   "source": [
    "rdd1 = sc.parallelize([1,2,3])"
   ]
  },
  {
   "cell_type": "code",
   "execution_count": 6,
   "metadata": {},
   "outputs": [
    {
     "data": {
      "text/plain": [
       "[1, 2, 3]"
      ]
     },
     "execution_count": 6,
     "metadata": {},
     "output_type": "execute_result"
    }
   ],
   "source": [
    "rdd1.collect()"
   ]
  },
  {
   "cell_type": "code",
   "execution_count": 7,
   "metadata": {},
   "outputs": [
    {
     "data": {
      "text/plain": [
       "[1, 2]"
      ]
     },
     "execution_count": 7,
     "metadata": {},
     "output_type": "execute_result"
    }
   ],
   "source": [
    "rdd1.take(2)"
   ]
  },
  {
   "cell_type": "markdown",
   "metadata": {},
   "source": [
    "### Clase 2 : map, take, count, group, filter"
   ]
  },
  {
   "cell_type": "code",
   "execution_count": 5,
   "metadata": {},
   "outputs": [],
   "source": [
    "equipos_olimpicos = sc.textFile(\"C:\\\\Users\\\\juan-\\\\Downloads\\\\files\\\\paises.csv\") \\\n",
    "    .map(lambda line : line.split(\",\"))"
   ]
  },
  {
   "cell_type": "code",
   "execution_count": 9,
   "metadata": {},
   "outputs": [
    {
     "data": {
      "text/plain": [
       "[['id', 'equipo', 'sigla'],\n",
       " ['1', '30. Februar', 'AUT'],\n",
       " ['2', 'A North American Team', 'MEX'],\n",
       " ['3', 'Acipactli', 'MEX'],\n",
       " ['4', 'Acturus', 'ARG']]"
      ]
     },
     "execution_count": 9,
     "metadata": {},
     "output_type": "execute_result"
    }
   ],
   "source": [
    "equipos_olimpicos.take(5)"
   ]
  },
  {
   "cell_type": "code",
   "execution_count": 10,
   "metadata": {},
   "outputs": [],
   "source": [
    "sc.stop()"
   ]
  },
  {
   "cell_type": "code",
   "execution_count": 6,
   "metadata": {},
   "outputs": [
    {
     "data": {
      "text/plain": [
       "231"
      ]
     },
     "execution_count": 6,
     "metadata": {},
     "output_type": "execute_result"
    }
   ],
   "source": [
    "equipos_olimpicos.map(lambda x: (x[2])).distinct().count()"
   ]
  },
  {
   "cell_type": "code",
   "execution_count": 7,
   "metadata": {},
   "outputs": [
    {
     "data": {
      "text/plain": [
       "[('sigla', 1), ('AUT', 11), ('MEX', 9), ('ARG', 18), ('AFG', 1)]"
      ]
     },
     "execution_count": 7,
     "metadata": {},
     "output_type": "execute_result"
    }
   ],
   "source": [
    "equipos_olimpicos.map(lambda x : (x[2],x[1])).groupByKey().mapValues(len).take(5)"
   ]
  },
  {
   "cell_type": "code",
   "execution_count": null,
   "metadata": {},
   "outputs": [],
   "source": [
    "equipos_olimpicos.map(lambda x : (x[2],x[1])).groupByKey()\\\n",
    "    .mapValues(list).take(5)"
   ]
  },
  {
   "cell_type": "code",
   "execution_count": null,
   "metadata": {},
   "outputs": [],
   "source": [
    "equiposargentos = equipos_olimpicos.filter(lambda l : \"ARG\" in l)\n",
    "equiposargentos.collect()"
   ]
  },
  {
   "cell_type": "code",
   "execution_count": 10,
   "metadata": {},
   "outputs": [
    {
     "data": {
      "text/plain": [
       "1185"
      ]
     },
     "execution_count": 10,
     "metadata": {},
     "output_type": "execute_result"
    }
   ],
   "source": [
    "equipos_olimpicos.count()"
   ]
  },
  {
   "cell_type": "code",
   "execution_count": 12,
   "metadata": {},
   "outputs": [
    {
     "data": {
      "text/plain": [
       "1185"
      ]
     },
     "execution_count": 12,
     "metadata": {},
     "output_type": "execute_result"
    }
   ],
   "source": [
    "#no me funcionó\n",
    "equipos_olimpicos.countApprox(10)"
   ]
  },
  {
   "cell_type": "markdown",
   "metadata": {},
   "source": [
    "### clase 3: union, top, join, take sample"
   ]
  },
  {
   "cell_type": "markdown",
   "metadata": {},
   "source": [
    "#### carga de archivos"
   ]
  },
  {
   "cell_type": "code",
   "execution_count": 16,
   "metadata": {},
   "outputs": [],
   "source": [
    "files_path = \"C:\\\\Users\\\\juan-\\\\Downloads\\\\files\\\\\""
   ]
  },
  {
   "cell_type": "code",
   "execution_count": 31,
   "metadata": {},
   "outputs": [],
   "source": [
    "deportistaOlimpico = sc.textFile(files_path+\"deportista.csv\") \\\n",
    "    .map(lambda l : l.split(',')) "
   ]
  },
  {
   "cell_type": "code",
   "execution_count": 32,
   "metadata": {},
   "outputs": [],
   "source": [
    "deportistaOlimpico2 = sc.textFile(files_path+\"deportista2.csv\") \\\n",
    "    .map(lambda l : l.split(',')) "
   ]
  },
  {
   "cell_type": "code",
   "execution_count": 34,
   "metadata": {},
   "outputs": [],
   "source": [
    "deportistaOlimpico = deportistaOlimpico.union(deportistaOlimpico2)"
   ]
  },
  {
   "cell_type": "code",
   "execution_count": 36,
   "metadata": {},
   "outputs": [
    {
     "data": {
      "text/plain": [
       "135572"
      ]
     },
     "execution_count": 36,
     "metadata": {},
     "output_type": "execute_result"
    }
   ],
   "source": [
    "deportistaOlimpico.count()"
   ]
  },
  {
   "cell_type": "code",
   "execution_count": 38,
   "metadata": {},
   "outputs": [
    {
     "data": {
      "text/plain": [
       "[['deportista_id', 'nombre', 'genero', 'edad', 'altura', 'peso', 'equipo_id'],\n",
       " ['99999', 'Alexander Grant Alick Rennie', '1', '32', '182', '71', '967']]"
      ]
     },
     "execution_count": 38,
     "metadata": {},
     "output_type": "execute_result"
    }
   ],
   "source": [
    "deportistaOlimpico.top(2)"
   ]
  },
  {
   "cell_type": "code",
   "execution_count": 39,
   "metadata": {},
   "outputs": [
    {
     "data": {
      "text/plain": [
       "[['id', 'equipo', 'sigla'], ['999', 'Stella-2', 'NOR']]"
      ]
     },
     "execution_count": 39,
     "metadata": {},
     "output_type": "execute_result"
    }
   ],
   "source": [
    "equipos_olimpicos.top(2)"
   ]
  },
  {
   "cell_type": "code",
   "execution_count": 41,
   "metadata": {},
   "outputs": [
    {
     "data": {
      "text/plain": [
       "[['equipo_id',\n",
       "  ['deportista_id', 'nombre', 'genero', 'edad', 'altura', 'peso']]]"
      ]
     },
     "execution_count": 41,
     "metadata": {},
     "output_type": "execute_result"
    }
   ],
   "source": [
    "deportistaOlimpico.map(lambda l : [l[-1],l[:-1]]).take(1)"
   ]
  },
  {
   "cell_type": "code",
   "execution_count": 42,
   "metadata": {},
   "outputs": [
    {
     "data": {
      "text/plain": [
       "[['id', 'sigla']]"
      ]
     },
     "execution_count": 42,
     "metadata": {},
     "output_type": "execute_result"
    }
   ],
   "source": [
    "equipos_olimpicos.map(lambda x : [x[0],x[2]]).take(1)"
   ]
  },
  {
   "cell_type": "markdown",
   "metadata": {},
   "source": [
    "#### join"
   ]
  },
  {
   "cell_type": "code",
   "execution_count": 40,
   "metadata": {},
   "outputs": [
    {
     "data": {
      "text/plain": [
       "[('199', (['1', 'A Dijiang', '1', '24', '180', '80'], 'CHN')),\n",
       " ('199', (['2', 'A Lamusi', '1', '23', '170', '60'], 'CHN')),\n",
       " ('199', (['602', 'Abudoureheman', '1', '22', '182', '75'], 'CHN')),\n",
       " ('199', (['1463', 'Ai Linuer', '1', '25', '160', '62'], 'CHN')),\n",
       " ('199', (['1464', 'Ai Yanhan', '2', '14', '168', '54'], 'CHN')),\n",
       " ('199', (['3605', 'An Weijiang', '1', '22', '178', '72'], 'CHN'))]"
      ]
     },
     "execution_count": 40,
     "metadata": {},
     "output_type": "execute_result"
    }
   ],
   "source": [
    "deportistaOlimpico.map(lambda l : [l[-1],l[:-1]]) \\\n",
    "    .join(equipos_olimpicos.map(lambda x : [x[0],x[2]])) \\\n",
    "    .take(6)"
   ]
  },
  {
   "cell_type": "code",
   "execution_count": 43,
   "metadata": {},
   "outputs": [
    {
     "data": {
      "text/plain": [
       "[('362', (['131505', 'Steven Woodburn', '1', '24', '185', '90'], 'FRA')),\n",
       " ('967', (['13626', 'Jill Brresen', '2', '22', '170', '57'], 'RSA')),\n",
       " ('482', (['44299', 'Gumundur Gumundsson', '1', '23', '174', '77'], 'ISL')),\n",
       " ('970', (['68062', 'Lee MinHui', '2', '28', '174', '65'], 'KOR')),\n",
       " ('794', (['92442', 'Luis Paz Zoldan', '1', '19', '187', '82'], 'PER')),\n",
       " ('413', (['26822', 'Jared Mark Deacon', '1', '24', '185', '77'], 'GBR'))]"
      ]
     },
     "execution_count": 43,
     "metadata": {},
     "output_type": "execute_result"
    }
   ],
   "source": [
    "deportistaOlimpico.map(lambda l : [l[-1],l[:-1]]) \\\n",
    "    .join(equipos_olimpicos.map(lambda x : [x[0],x[2]])) \\\n",
    "    .takeSample(False, 6, 25)"
   ]
  },
  {
   "cell_type": "markdown",
   "metadata": {},
   "source": [
    "#### resultados.csv"
   ]
  },
  {
   "cell_type": "code",
   "execution_count": 46,
   "metadata": {},
   "outputs": [],
   "source": [
    "resultado = sc.textFile(files_path+\"resultados.csv\") \\\n",
    "    .map(lambda l: l.split(','))"
   ]
  },
  {
   "cell_type": "code",
   "execution_count": 47,
   "metadata": {},
   "outputs": [
    {
     "data": {
      "text/plain": [
       "[['resultado_id', 'medalla', 'deportista_id', 'juego_id', 'evento_id'],\n",
       " ['1', 'NA', '1', '39', '1'],\n",
       " ['2', 'NA', '2', '49', '2']]"
      ]
     },
     "execution_count": 47,
     "metadata": {},
     "output_type": "execute_result"
    }
   ],
   "source": [
    "resultado.take(3)"
   ]
  },
  {
   "cell_type": "code",
   "execution_count": 49,
   "metadata": {},
   "outputs": [
    {
     "data": {
      "text/plain": [
       "[['resultado_id', 'medalla', 'deportista_id', 'juego_id', 'evento_id'],\n",
       " ['4', 'Gold', '4', '2', '4']]"
      ]
     },
     "execution_count": 49,
     "metadata": {},
     "output_type": "execute_result"
    }
   ],
   "source": [
    "resultado.filter(lambda l : 'NA' not in l[1]).take(2)"
   ]
  },
  {
   "cell_type": "code",
   "execution_count": 50,
   "metadata": {},
   "outputs": [],
   "source": [
    "deportistas_paises = deportistaOlimpico.map(lambda l : [l[-1],l[:-1]]) \\\n",
    "    .join(equipos_olimpicos.map(lambda x : [x[0],x[2]]) )"
   ]
  },
  {
   "cell_type": "code",
   "execution_count": 51,
   "metadata": {},
   "outputs": [
    {
     "data": {
      "text/plain": [
       "[('199', (['1', 'A Dijiang', '1', '24', '180', '80'], 'CHN')),\n",
       " ('199', (['2', 'A Lamusi', '1', '23', '170', '60'], 'CHN')),\n",
       " ('199', (['602', 'Abudoureheman', '1', '22', '182', '75'], 'CHN'))]"
      ]
     },
     "execution_count": 51,
     "metadata": {},
     "output_type": "execute_result"
    }
   ],
   "source": [
    "deportistas_paises.take(3)"
   ]
  },
  {
   "cell_type": "markdown",
   "metadata": {},
   "source": [
    "#### operaciones númericas"
   ]
  }
 ],
 "metadata": {
  "kernelspec": {
   "display_name": "Python 3.9.0 64-bit",
   "language": "python",
   "name": "python3"
  },
  "language_info": {
   "codemirror_mode": {
    "name": "ipython",
    "version": 3
   },
   "file_extension": ".py",
   "mimetype": "text/x-python",
   "name": "python",
   "nbconvert_exporter": "python",
   "pygments_lexer": "ipython3",
   "version": "3.9.0"
  },
  "orig_nbformat": 4,
  "vscode": {
   "interpreter": {
    "hash": "af522f54b07c7f3c18cf9811c63a5ae971c77fc94befd985227ce93a60065417"
   }
  }
 },
 "nbformat": 4,
 "nbformat_minor": 2
}
